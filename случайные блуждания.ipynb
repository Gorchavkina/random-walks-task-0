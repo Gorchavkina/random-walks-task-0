{
 "cells": [
  {
   "cell_type": "code",
   "execution_count": 18,
   "metadata": {},
   "outputs": [
    {
     "name": "stdout",
     "output_type": "stream",
     "text": [
      "количество траекторий длиной L =  64 , (2d)^L =  64\n",
      "координаты результирующего (среднего по всем траекториям) вектора: (0, 0)\n",
      "среднее смещение:  1.59 , L^0.5 = 1.73\n",
      "средний квадрат смещения  3.0 , L = 3\n"
     ]
    }
   ],
   "source": [
    "steps = [(1,0),(-1,0),(0,1),(0,-1)]\n",
    "def generate_walks2(path, L, cache):\n",
    "    if L == 0:\n",
    "        cache.append(path)\n",
    "    else:\n",
    "        for dx, dy in steps:\n",
    "            x, y = path[-1]\n",
    "            pp = path[:]\n",
    "            pp.append((x + dx, y + dy))\n",
    "            generate_walks2(pp, L - 1, cache)\n",
    "def sr_vector(cache, L):\n",
    "    a1 = 0\n",
    "    b1 = 0\n",
    "    for i in range(len(cache)):\n",
    "        a,b = cache[i][L]\n",
    "        a1 += a\n",
    "        b1 += b  \n",
    "    return (a1, b1)\n",
    "def distance(cache, L):\n",
    "    d = 0\n",
    "    for j in range(len(cache)):\n",
    "        a2, b2 = cache[j][L]\n",
    "        d += (a2**2 + b2**2)**0.5\n",
    "    return d/len(cache)\n",
    "def sq_distance(cache, L):\n",
    "    sq = 0\n",
    "    for m in range(len(cache)):\n",
    "        sq += cache[m][L][0]**2 + cache[m][L][1]**2\n",
    "    return sq/len(cache)   \n",
    "cache = []\n",
    "L = 3\n",
    "generate_walks2([(0,0)], L, cache)\n",
    "print(\"количество траекторий длиной L = \", len(cache), \", (2d)^L = \", 4**L)\n",
    "print(\"координаты результирующего (среднего по всем траекториям) вектора:\", sr_vector(cache, L))\n",
    "print(\"среднее смещение: \",'%.2f' % distance(cache, L), \", L^0.5 =\", '%.2f' % L**0.5)\n",
    "print(\"средний квадрат смещения \", sq_distance(cache, L),\", L =\",L)\n",
    "#print('%.3f' % i) - такая запись позволяет регулировать число знаков после запятой"
   ]
  },
  {
   "cell_type": "code",
   "execution_count": 8,
   "metadata": {},
   "outputs": [
    {
     "data": {
      "image/png": "[encoded data removed]",
      "text/plain": [
       "<Figure size 432x288 with 1 Axes>"
      ]
     },
     "metadata": {
      "needs_background": "light"
     },
     "output_type": "display_data"
    }
   ],
   "source": [
    "import matplotlib.pyplot as plt\n",
    "for i in range(len(cache)):\n",
    "    z0 = []\n",
    "    z1 = []\n",
    "    for j in range(L+1):\n",
    "        z0.append(cache[i][j][0])\n",
    "        z1.append(cache[i][j][1])\n",
    "    plt.plot(z0, z1, \"-o\")\n",
    "plt.xlim([-(L+1), L+1])\n",
    "plt.ylim([-(L+1), L+1])\n",
    "plt.title(\"узлы и пути блуждания\")\n",
    "plt.show()\n",
    "# для сравнения с треугольной решеткой"
   ]
  },
  {
   "cell_type": "code",
   "execution_count": 17,
   "metadata": {},
   "outputs": [
    {
     "name": "stdout",
     "output_type": "stream",
     "text": [
      "количество траекторий длиной L =  36 , (2d)^L =  3\n",
      "координаты результирующего (среднего по всем траекториям) вектора: (0, 0)\n",
      "среднее смещение:  2.05 , L^0.5 = 1.73\n",
      "средний квадрат смещения  4.56 , L^(3/2) = 5.20\n"
     ]
    }
   ],
   "source": [
    "steps = [(1,0),(-1,0),(0,1),(0,-1)]\n",
    "def generate_walks3(path, L, cache):\n",
    "    if L == 0:\n",
    "        cache.append(path)\n",
    "    else:\n",
    "        for dx, dy in steps:\n",
    "            x, y = path[-1]\n",
    "            pp = path[:]\n",
    "            x1, y1 = x + dx, y + dy\n",
    "            if (x1, y1) not in pp:\n",
    "                pp.append((x1, y1))\n",
    "                generate_walks3(pp, L - 1, cache)\n",
    "def sr_vector(cache, L):\n",
    "    a1 = 0\n",
    "    b1 = 0\n",
    "    for i in range(len(cache)):\n",
    "        a,b = cache[i][L]\n",
    "        a1 += a\n",
    "        b1 += b  \n",
    "    return (a1, b1)\n",
    "def distance(cache, L):\n",
    "    d = 0\n",
    "    for j in range(len(cache)):\n",
    "        a2, b2 = cache[j][L]\n",
    "        d += (a2**2 + b2**2)**0.5\n",
    "    return d/len(cache)\n",
    "def sq_distance(cache, L):\n",
    "    sq = 0\n",
    "    for m in range(len(cache)):\n",
    "        sq += cache[m][L][0]**2 + cache[m][L][1]**2\n",
    "    return sq/len(cache)   \n",
    "cache = []\n",
    "L = 3\n",
    "generate_walks3([(0,0)], L, cache)\n",
    "print(\"количество траекторий длиной L = \", len(cache), \", (2d)^L = \", 3)\n",
    "print(\"координаты результирующего (среднего по всем траекториям) вектора:\", sr_vector(cache, L))\n",
    "print(\"среднее смещение: \",'%.2f' % distance(cache, L), \", L^0.5 =\", '%.2f' % L**0.5)\n",
    "print(\"средний квадрат смещения \",'%.2f' % sq_distance(cache, L),\", L^(3/2) =\",'%.2f' % L**(3/2))\n",
    "#print('%.3f' % i) - такая запись позволяет регулировать число знаков после запятой"
   ]
  },
  {
   "cell_type": "code",
   "execution_count": null,
   "metadata": {},
   "outputs": [],
   "source": [
    " "
   ]
  },
  {
   "cell_type": "code",
   "execution_count": null,
   "metadata": {},
   "outputs": [],
   "source": [
    " "
   ]
  },
  {
   "cell_type": "code",
   "execution_count": null,
   "metadata": {
    "collapsed": true
   },
   "outputs": [],
   "source": []
  },
  {
   "cell_type": "code",
   "execution_count": null,
   "metadata": {
    "collapsed": true
   },
   "outputs": [],
   "source": []
  },
  {
   "cell_type": "code",
   "execution_count": null,
   "metadata": {
    "collapsed": true
   },
   "outputs": [],
   "source": []
  },
  {
   "cell_type": "code",
   "execution_count": null,
   "metadata": {
    "collapsed": true
   },
   "outputs": [],
   "source": []
  },
  {
   "cell_type": "code",
   "execution_count": null,
   "metadata": {
    "collapsed": true
   },
   "outputs": [],
   "source": []
  },
  {
   "cell_type": "code",
   "execution_count": null,
   "metadata": {
    "collapsed": true
   },
   "outputs": [],
   "source": []
  },
  {
   "cell_type": "code",
   "execution_count": null,
   "metadata": {
    "collapsed": true
   },
   "outputs": [],
   "source": []
  },
  {
   "cell_type": "code",
   "execution_count": null,
   "metadata": {},
   "outputs": [],
   "source": [
    " "
   ]
  },
  {
   "cell_type": "code",
   "execution_count": null,
   "metadata": {
    "collapsed": true
   },
   "outputs": [],
   "source": []
  }
 ],
 "metadata": {
  "kernelspec": {
   "display_name": "Python 3",
   "language": "python",
   "name": "python3"
  },
  "language_info": {
   "codemirror_mode": {
    "name": "ipython",
    "version": 3
   },
   "file_extension": ".py",
   "mimetype": "text/x-python",
   "name": "python",
   "nbconvert_exporter": "python",
   "pygments_lexer": "ipython3",
   "version": "3.7.0"
  }
 },
 "nbformat": 4,
 "nbformat_minor": 2
}
